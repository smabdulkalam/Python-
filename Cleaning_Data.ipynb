{
 "cells": [
  {
   "cell_type": "markdown",
   "id": "9ffe43a4-61f0-4716-8dbc-40fde20ba219",
   "metadata": {},
   "source": [
    "# Cleaning bollywood_movies\n"
   ]
  },
  {
   "cell_type": "code",
   "execution_count": 4,
   "id": "e918ed50-5f5a-44c0-a862-da457bde78fb",
   "metadata": {},
   "outputs": [
    {
     "name": "stdout",
     "output_type": "stream",
     "text": [
      "Defaulting to user installation because normal site-packages is not writeable\n",
      "Collecting pandas\n",
      "  Downloading pandas-2.2.3-cp310-cp310-manylinux_2_17_x86_64.manylinux2014_x86_64.whl (13.1 MB)\n",
      "\u001b[2K     \u001b[38;2;114;156;31m━━━━━━━━━━━━━━━━━━━━━━━━━━━━━━━━━━━━━━━━\u001b[0m \u001b[32m13.1/13.1 MB\u001b[0m \u001b[31m14.6 MB/s\u001b[0m eta \u001b[36m0:00:00\u001b[0mm eta \u001b[36m0:00:01\u001b[0m[36m0:00:01\u001b[0m\n",
      "\u001b[?25hRequirement already satisfied: python-dateutil>=2.8.2 in ./.local/lib/python3.10/site-packages (from pandas) (2.9.0.post0)\n",
      "Requirement already satisfied: pytz>=2020.1 in /usr/lib/python3/dist-packages (from pandas) (2022.1)\n",
      "Collecting numpy>=1.22.4\n",
      "  Downloading numpy-2.2.5-cp310-cp310-manylinux_2_17_x86_64.manylinux2014_x86_64.whl (16.4 MB)\n",
      "\u001b[2K     \u001b[38;2;114;156;31m━━━━━━━━━━━━━━━━━━━━━━━━━━━━━━━━━━━━━━━━\u001b[0m \u001b[32m16.4/16.4 MB\u001b[0m \u001b[31m17.9 MB/s\u001b[0m eta \u001b[36m0:00:00\u001b[0mm eta \u001b[36m0:00:01\u001b[0m[36m0:00:01\u001b[0m\n",
      "\u001b[?25hCollecting tzdata>=2022.7\n",
      "  Downloading tzdata-2025.2-py2.py3-none-any.whl (347 kB)\n",
      "\u001b[2K     \u001b[38;2;114;156;31m━━━━━━━━━━━━━━━━━━━━━━━━━━━━━━━━━━━━━━\u001b[0m \u001b[32m347.8/347.8 KB\u001b[0m \u001b[31m26.1 MB/s\u001b[0m eta \u001b[36m0:00:00\u001b[0m\n",
      "\u001b[?25hRequirement already satisfied: six>=1.5 in /usr/lib/python3/dist-packages (from python-dateutil>=2.8.2->pandas) (1.16.0)\n",
      "Installing collected packages: tzdata, numpy, pandas\n",
      "Successfully installed numpy-2.2.5 pandas-2.2.3 tzdata-2025.2\n",
      "Note: you may need to restart the kernel to use updated packages.\n"
     ]
    }
   ],
   "source": [
    "pip install pandas\n"
   ]
  },
  {
   "cell_type": "code",
   "execution_count": 67,
   "id": "19709ab5-355d-4edb-8b19-aa067c116693",
   "metadata": {},
   "outputs": [],
   "source": [
    "import pandas as pd\n"
   ]
  },
  {
   "cell_type": "code",
   "execution_count": 68,
   "id": "e7bf968f-79ab-4916-b83d-745a987f0d4e",
   "metadata": {},
   "outputs": [],
   "source": [
    "df = pd.read_csv(\"Downloads/movies_data/bollywood_movies.csv\")"
   ]
  },
  {
   "cell_type": "code",
   "execution_count": 69,
   "id": "6b1caf9e-a1a1-40b0-b6aa-bdf7f9a4c416",
   "metadata": {},
   "outputs": [],
   "source": [
    "from io import StringIO"
   ]
  },
  {
   "cell_type": "code",
   "execution_count": 70,
   "id": "c9984fcf-3d75-4c07-92bd-92bf7393e342",
   "metadata": {},
   "outputs": [
    {
     "name": "stdout",
     "output_type": "stream",
     "text": [
      "Initial Data Snapshot:\n",
      "   Unnamed: 0  index MovieID                         Title  \\\n",
      "0           0      0  MOV001                        Lagaan   \n",
      "1           1      1  MOV002   Kabhi Khushi Kabhie Gham...   \n",
      "2           2      2  MOV003  M.S. Dhoni: The Untold Story   \n",
      "3           3      3  MOV004   Baahubali 2: The Conclusion   \n",
      "4           4      4  MOV005               Chennai Express   \n",
      "\n",
      "             Director                      Genre  ReleaseYear  \\\n",
      "0  Ashutosh Gowariker                        NaN         2001   \n",
      "1         Karan Johar               Family Drama         2001   \n",
      "2       Neeraj Pandey  Biographical Sports Drama         2016   \n",
      "3     S. S. Rajamouli        Epic Fantasy Action         2017   \n",
      "4        Rohit Shetty              Action Comedy         2013   \n",
      "\n",
      "   Budget (Crores)  BoxOffice (Crores)  Rating  Duration (minutes)  \\\n",
      "0              NaN               100.0     8.1                 224   \n",
      "1             50.0               100.0     7.9                 210   \n",
      "2              NaN               215.0     7.9                 184   \n",
      "3            250.0              1810.0     8.2                 171   \n",
      "4              NaN               423.0     6.4                 141   \n",
      "\n",
      "              LeadActor       LeadActress Language           ProductionCompany  \n",
      "0            Aamir Khan       Gracy Singh    Hindi      Aamir Khan Productions  \n",
      "1        Shah Rukh Khan             Kajol    Hindi          Dharma Productions  \n",
      "2  Sushant Singh Rajput      Kiara Advani    Hindi            Fox Star Studios  \n",
      "3               Prabhas    Anushka Shetty   Telugu            Arka Media Works  \n",
      "4        Shah Rukh Khan  Deepika Padukone    Hindi  Red Chillies Entertainment  \n",
      "\n",
      "Missing Values:\n",
      "Unnamed: 0             0\n",
      "index                  0\n",
      "MovieID                0\n",
      "Title                  0\n",
      "Director               0\n",
      "Genre                  1\n",
      "ReleaseYear            0\n",
      "Budget (Crores)       12\n",
      "BoxOffice (Crores)     9\n",
      "Rating                 0\n",
      "Duration (minutes)     0\n",
      "LeadActor              0\n",
      "LeadActress            0\n",
      "Language               0\n",
      "ProductionCompany      0\n",
      "dtype: int64\n"
     ]
    }
   ],
   "source": [
    "print(\"Initial Data Snapshot:\")\n",
    "print(df.head())\n",
    "print(\"\\nMissing Values:\")\n",
    "print(df.isnull().sum())"
   ]
  },
  {
   "cell_type": "code",
   "execution_count": 71,
   "id": "8474a429-d07a-4f9f-9b96-4bb465c88a9e",
   "metadata": {},
   "outputs": [],
   "source": [
    "numeric_cols = ['Budget (Crores)', 'BoxOffice (Crores)', 'Rating', 'Duration (minutes)']\n",
    "df[numeric_cols] = df[numeric_cols].apply(pd.to_numeric, errors='coerce')"
   ]
  },
  {
   "cell_type": "code",
   "execution_count": 72,
   "id": "b85e8c52-059c-4145-b8c5-b8c36f5d1493",
   "metadata": {},
   "outputs": [],
   "source": [
    "for col in numeric_cols:\n",
    "    median_val = df[col].median()\n",
    "    df[col] = df[col].fillna(median_val)\n"
   ]
  },
  {
   "cell_type": "code",
   "execution_count": 73,
   "id": "78f827f3-2a2b-4c99-95da-c98687720635",
   "metadata": {},
   "outputs": [],
   "source": [
    "df['Language'] = df['Language'].str.extract(r'(\\w+)', expand=False)\n"
   ]
  },
  {
   "cell_type": "code",
   "execution_count": 74,
   "id": "421a7831-87e7-454b-b5bb-18dcd9a460a2",
   "metadata": {},
   "outputs": [],
   "source": [
    "for col in df.select_dtypes(include='object').columns:\n",
    "    df[col] = df[col].str.strip()\n"
   ]
  },
  {
   "cell_type": "code",
   "execution_count": 75,
   "id": "7daa5ca8-ed0f-4a88-9bf0-391b919ac624",
   "metadata": {},
   "outputs": [],
   "source": [
    "df.drop_duplicates(inplace=True)\n"
   ]
  },
  {
   "cell_type": "code",
   "execution_count": 76,
   "id": "016e1bc9-140e-40a7-9cd9-5177d6bdcc87",
   "metadata": {},
   "outputs": [],
   "source": [
    "df.reset_index(drop=True, inplace=True)"
   ]
  },
  {
   "cell_type": "code",
   "execution_count": 77,
   "id": "d971cdb1-5e8a-4a86-afda-87317320940b",
   "metadata": {},
   "outputs": [
    {
     "name": "stdout",
     "output_type": "stream",
     "text": [
      "\n",
      "Cleaned Data:\n",
      "   Unnamed: 0  index MovieID                         Title  \\\n",
      "0           0      0  MOV001                        Lagaan   \n",
      "1           1      1  MOV002   Kabhi Khushi Kabhie Gham...   \n",
      "2           2      2  MOV003  M.S. Dhoni: The Untold Story   \n",
      "3           3      3  MOV004   Baahubali 2: The Conclusion   \n",
      "4           4      4  MOV005               Chennai Express   \n",
      "5           5      5  MOV006                        Bharat   \n",
      "6           6      6  MOV007                        Dangal   \n",
      "7           7      7  MOV008                Sarkar (Tamil)   \n",
      "8           8      8  MOV009                            PK   \n",
      "9           9      9  MOV010                   2.0 (Tamil)   \n",
      "\n",
      "             Director                             Genre  ReleaseYear  \\\n",
      "0  Ashutosh Gowariker                               NaN         2001   \n",
      "1         Karan Johar                      Family Drama         2001   \n",
      "2       Neeraj Pandey         Biographical Sports Drama         2016   \n",
      "3     S. S. Rajamouli               Epic Fantasy Action         2017   \n",
      "4        Rohit Shetty                     Action Comedy         2013   \n",
      "5     Ali Abbas Zafar                             Drama         2019   \n",
      "6       Nitesh Tiwari         Biographical Sports Drama         2016   \n",
      "7    A. R. Murugadoss                   Action Thriller         2005   \n",
      "8     Rajkumar Hirani  Satirical Science Fiction Comedy         2014   \n",
      "9          S. Shankar            Science Fiction Action         2018   \n",
      "\n",
      "   Budget (Crores)  BoxOffice (Crores)  Rating  Duration (minutes)  \\\n",
      "0             50.0               100.0     8.1                 224   \n",
      "1             50.0               100.0     7.9                 210   \n",
      "2             50.0               215.0     7.9                 184   \n",
      "3            250.0              1810.0     8.2                 171   \n",
      "4             50.0               423.0     6.4                 141   \n",
      "5            100.0               325.0     6.8                 156   \n",
      "6             70.0              2140.0     8.1                 161   \n",
      "7             50.0               250.0     7.5                 173   \n",
      "8             85.0               792.0     8.1                 153   \n",
      "9            550.0               800.0     6.9                 147   \n",
      "\n",
      "              LeadActor         LeadActress Language  \\\n",
      "0            Aamir Khan         Gracy Singh    Hindi   \n",
      "1        Shah Rukh Khan               Kajol    Hindi   \n",
      "2  Sushant Singh Rajput        Kiara Advani    Hindi   \n",
      "3               Prabhas      Anushka Shetty   Telugu   \n",
      "4        Shah Rukh Khan    Deepika Padukone    Hindi   \n",
      "5           Salman Khan        Katrina Kaif    Hindi   \n",
      "6            Aamir Khan  Fatima Sana Shaikh    Hindi   \n",
      "7                 Vijay      Keerthy Suresh    Tamil   \n",
      "8            Aamir Khan      Anushka Sharma    Hindi   \n",
      "9           Rajinikanth         Amy Jackson    Tamil   \n",
      "\n",
      "            ProductionCompany  \n",
      "0      Aamir Khan Productions  \n",
      "1          Dharma Productions  \n",
      "2            Fox Star Studios  \n",
      "3            Arka Media Works  \n",
      "4  Red Chillies Entertainment  \n",
      "5       Reel Life Productions  \n",
      "6      Aamir Khan Productions  \n",
      "7                Kalaignar TV  \n",
      "8          Vinod Chopra Films  \n",
      "9            Lyca Productions  \n"
     ]
    }
   ],
   "source": [
    "print(\"\\nCleaned Data:\")\n",
    "print(df.head(10))"
   ]
  },
  {
   "cell_type": "code",
   "execution_count": 78,
   "id": "2139f7a6-3f3e-412c-af64-68ee7960071f",
   "metadata": {},
   "outputs": [
    {
     "name": "stdout",
     "output_type": "stream",
     "text": [
      "\n",
      "Cleaned data saved to 'cleaned_movie_data.csv'\n"
     ]
    }
   ],
   "source": [
    "df.to_csv(\"cleaned_movie_data.csv\", index=False)\n",
    "print(\"\\nCleaned data saved to 'cleaned_movie_data.csv'\")"
   ]
  },
  {
   "cell_type": "code",
   "execution_count": 79,
   "id": "da949149-f5af-4784-87a7-334ef0b883f6",
   "metadata": {},
   "outputs": [],
   "source": [
    "df.drop(columns=['Unnamed: 0'], inplace=True)\n"
   ]
  },
  {
   "cell_type": "code",
   "execution_count": 81,
   "id": "7d02dfe8-4ac9-4cb9-9778-974abe995f69",
   "metadata": {},
   "outputs": [
    {
     "name": "stdout",
     "output_type": "stream",
     "text": [
      "\n",
      "Cleaned data saved to 'cleaned_bollywood_movies.csv'\n"
     ]
    }
   ],
   "source": [
    "df.to_csv(\"cleaned_bollywood_movies.csv\", index=False)\n",
    "print(\"\\nCleaned data saved to 'cleaned_bollywood_movies.csv'\")"
   ]
  },
  {
   "cell_type": "code",
   "execution_count": 82,
   "id": "77af0ee2-fc22-4b6d-bf26-cc25b6f7d9bd",
   "metadata": {},
   "outputs": [],
   "source": [
    "df['Language'] = df['Language'].astype(str).str.strip().str.lower()\n",
    "df = df[df['Language'] == 'hindi'].reset_index(drop=True)\n"
   ]
  },
  {
   "cell_type": "code",
   "execution_count": 83,
   "id": "19dc3c74-23e4-4998-963b-a3b08459c618",
   "metadata": {},
   "outputs": [
    {
     "name": "stdout",
     "output_type": "stream",
     "text": [
      "\n",
      "Cleaned data saved to 'cleaned_bollywood_movies.csv'\n"
     ]
    }
   ],
   "source": [
    "df.to_csv(\"cleaned_bollywood_movies.csv\", index=False)\n",
    "print(\"\\nCleaned data saved to 'cleaned_bollywood_movies.csv'\")"
   ]
  },
  {
   "cell_type": "code",
   "execution_count": 85,
   "id": "d61eddf9-0e61-4422-bac1-1502436b3239",
   "metadata": {},
   "outputs": [
    {
     "name": "stdout",
     "output_type": "stream",
     "text": [
      "ReleaseYear           int64\n",
      "Budget (Crores)       int64\n",
      "BoxOffice (Crores)    int64\n",
      "Duration (minutes)    int64\n",
      "dtype: object\n"
     ]
    }
   ],
   "source": [
    "\n",
    "float_cols_to_int = ['ReleaseYear', 'Budget (Crores)', 'BoxOffice (Crores)', 'Duration (minutes)']\n",
    "\n",
    "for col in float_cols_to_int:\n",
    "    df[col] = df[col].astype(int)\n",
    "\n",
    "\n",
    "print(df[float_cols_to_int].dtypes)\n"
   ]
  },
  {
   "cell_type": "code",
   "execution_count": 86,
   "id": "c89e0f89-f185-4ceb-af51-54d5455fd473",
   "metadata": {},
   "outputs": [
    {
     "name": "stdout",
     "output_type": "stream",
     "text": [
      "\n",
      "Cleaned data saved to 'cleaned_bollywood_movies.csv'\n"
     ]
    }
   ],
   "source": [
    "df.to_csv(\"cleaned_bollywood_movies.csv\", index=False)\n",
    "print(\"\\nCleaned data saved to 'cleaned_bollywood_movies.csv'\")"
   ]
  },
  {
   "cell_type": "markdown",
   "id": "a6fbf171-db8e-44d6-bc72-4ef221d30320",
   "metadata": {},
   "source": [
    "# Cleaning indian_movies.csv"
   ]
  },
  {
   "cell_type": "code",
   "execution_count": 54,
   "id": "432a1d68-479b-48c5-a3dd-8d13042ae574",
   "metadata": {},
   "outputs": [],
   "source": [
    "import pandas as pd"
   ]
  },
  {
   "cell_type": "code",
   "execution_count": 55,
   "id": "6f3d9f29-03ce-4383-903e-628905aa39d6",
   "metadata": {},
   "outputs": [],
   "source": [
    "df = pd.read_csv(\"indian_movies (1).csv\")"
   ]
  },
  {
   "cell_type": "code",
   "execution_count": 56,
   "id": "da41917b-1505-40be-a5cb-4a5ac521f93b",
   "metadata": {},
   "outputs": [],
   "source": [
    "columns_to_fill = ['Budget (Crores)', 'BoxOffice (Crores)', 'Rating', 'Duration (minutes)']\n",
    "for col in columns_to_fill:\n",
    "    median_val = df[col].median()\n",
    "    df[col] = df[col].fillna(median_val)  "
   ]
  },
  {
   "cell_type": "code",
   "execution_count": 57,
   "id": "14ab06ff-fd6d-4393-bd90-569c53f35977",
   "metadata": {},
   "outputs": [],
   "source": [
    "df.columns = df.columns.str.strip().str.lower().str.replace(\" \", \"_\")  \n"
   ]
  },
  {
   "cell_type": "code",
   "execution_count": 58,
   "id": "fdf2c615-3040-4108-b217-fe38453e2372",
   "metadata": {},
   "outputs": [],
   "source": [
    "df.drop_duplicates(inplace=True)"
   ]
  },
  {
   "cell_type": "code",
   "execution_count": 59,
   "id": "eec9540e-ccf1-41ce-ad73-73c83db38b81",
   "metadata": {},
   "outputs": [],
   "source": [
    "df['budget_(crores)'] = pd.to_numeric(df['budget_(crores)'], errors='coerce')\n",
    "df['boxoffice_(crores)'] = pd.to_numeric(df['boxoffice_(crores)'], errors='coerce')\n",
    "df['rating'] = pd.to_numeric(df['rating'], errors='coerce')\n",
    "df['duration_(minutes)'] = pd.to_numeric(df['duration_(minutes)'], errors='coerce')"
   ]
  },
  {
   "cell_type": "code",
   "execution_count": 60,
   "id": "e1537e74-82df-4c8a-b43f-2d77dfdb50f2",
   "metadata": {},
   "outputs": [],
   "source": [
    "text_columns = ['title', 'director', 'genre', 'leadactor', 'leadactress', 'productioncompany']\n",
    "for col in text_columns:\n",
    "    df[col] = df[col].str.strip()"
   ]
  },
  {
   "cell_type": "code",
   "execution_count": 61,
   "id": "a83212f2-194d-448e-b897-5fbc43533994",
   "metadata": {},
   "outputs": [
    {
     "name": "stdout",
     "output_type": "stream",
     "text": [
      "   unnamed:_0 movieid                       title  \\\n",
      "0           7  MOV008              Sarkar (Tamil)   \n",
      "1           9  MOV010                 2.0 (Tamil)   \n",
      "2          21  MOV022            K.G.F: Chapter 1   \n",
      "3          23  MOV024  Avengers: Endgame (Dubbed)   \n",
      "4          25  MOV026                    Pailwaan   \n",
      "\n",
      "                      director                   genre  releaseyear  \\\n",
      "0             A. R. Murugadoss         Action Thriller       2005.0   \n",
      "1                   S. Shankar  Science Fiction Action       2018.0   \n",
      "2               Prashanth Neel            Action Drama       2018.0   \n",
      "3  Anthony Russo, Joseph Russo               Superhero       2019.0   \n",
      "4                   S. Krishna           Sports Action       2019.0   \n",
      "\n",
      "   budget_(crores)  boxoffice_(crores)  rating  duration_(minutes)  \\\n",
      "0             25.0                47.5     7.5               173.0   \n",
      "1            550.0               800.0     6.9               147.0   \n",
      "2             50.0               250.0     7.9               156.0   \n",
      "3             25.0                47.5     8.4               181.0   \n",
      "4             30.0                55.0     6.8               156.0   \n",
      "\n",
      "           leadactor         leadactress  \\\n",
      "0              Vijay      Keerthy Suresh   \n",
      "1        Rajinikanth         Amy Jackson   \n",
      "2               Yash     Srinidhi Shetty   \n",
      "3  Robert Downey Jr.  Scarlett Johansson   \n",
      "4             Sudeep     Aakanksha Singh   \n",
      "\n",
      "                                     language    productioncompany  \n",
      "0                                       Tamil         Kalaignar TV  \n",
      "1                                       Tamil     Lyca Productions  \n",
      "2                                     Kannada        Hombale Films  \n",
      "3  English (Dubbed in Telugu, Kannada, Hindi)       Marvel Studios  \n",
      "4                                     Kannada  RRR Motion Pictures  \n"
     ]
    }
   ],
   "source": [
    "print(df.head())"
   ]
  },
  {
   "cell_type": "code",
   "execution_count": 62,
   "id": "59555461-ed93-4ee1-92ef-fbfaa095ccf6",
   "metadata": {},
   "outputs": [],
   "source": [
    "df.drop(df.columns[0], axis=1, inplace=True) \n"
   ]
  },
  {
   "cell_type": "code",
   "execution_count": 63,
   "id": "a69c8cf9-4de3-4e2d-8222-6e50d0377f47",
   "metadata": {},
   "outputs": [
    {
     "name": "stdout",
     "output_type": "stream",
     "text": [
      "\n",
      "Cleaned data saved to 'cleaned_indian_movies.csv'\n"
     ]
    }
   ],
   "source": [
    "df.to_csv(\"cleaned_indian_movies.csv\", index=False)\n",
    "print(\"\\nCleaned data saved to 'cleaned_indian_movies.csv'\")"
   ]
  },
  {
   "cell_type": "code",
   "execution_count": 100,
   "id": "728302f1-313d-45cc-b472-ab0c750ca8a7",
   "metadata": {},
   "outputs": [
    {
     "name": "stdout",
     "output_type": "stream",
     "text": [
      "['index', 'MovieID', 'Title', 'Director', 'Genre', 'ReleaseYear', 'Budget (Crores)', 'BoxOffice (Crores)', 'Rating', 'Duration (minutes)', 'LeadActor', 'LeadActress', 'Language', 'ProductionCompany']\n"
     ]
    }
   ],
   "source": [
    "# Assuming df is your DataFrame\n",
    "print(df.columns.tolist())\n"
   ]
  },
  {
   "cell_type": "code",
   "execution_count": 101,
   "id": "5e79b48f-112d-4555-b9ce-a05ebebca457",
   "metadata": {},
   "outputs": [],
   "source": [
    "df = pd.read_csv(\"cleaned_indian_movies.csv\")"
   ]
  },
  {
   "cell_type": "code",
   "execution_count": 102,
   "id": "bdb5b969-c2f7-4eaf-97e9-50c18c4ce3ae",
   "metadata": {},
   "outputs": [],
   "source": [
    "columns_to_convert = ['releaseyear', 'budget_(crores)', 'boxoffice_(crores)', 'duration_(minutes)']\n",
    "df[columns_to_convert] = df[columns_to_convert].fillna(0).astype(int)"
   ]
  },
  {
   "cell_type": "code",
   "execution_count": 64,
   "id": "7445df95-8eb2-4010-bc79-82d7b0f3ebdd",
   "metadata": {},
   "outputs": [
    {
     "name": "stdout",
     "output_type": "stream",
     "text": [
      "0     2005.0\n",
      "1     2018.0\n",
      "2     2018.0\n",
      "3     2019.0\n",
      "4     2019.0\n",
      "5     2019.0\n",
      "6     2019.0\n",
      "7     2019.0\n",
      "8     2019.0\n",
      "9     2019.0\n",
      "10    2019.0\n",
      "11    2020.0\n",
      "12    2020.0\n",
      "13    2020.0\n",
      "14    2020.0\n",
      "15    2018.0\n",
      "16    2016.0\n",
      "17    2016.0\n",
      "Name: releaseyear, dtype: float64\n"
     ]
    }
   ],
   "source": [
    "df['releaseyear'] = df['releaseyear'].fillna(2016.0)\n",
    "print(df['releaseyear'])\n",
    "\n"
   ]
  },
  {
   "cell_type": "code",
   "execution_count": 99,
   "id": "f6e82caf-2f88-4c4b-a303-a55131230ea3",
   "metadata": {},
   "outputs": [
    {
     "name": "stdout",
     "output_type": "stream",
     "text": [
      "['index', 'MovieID', 'Title', 'Director', 'Genre', 'ReleaseYear', 'Budget (Crores)', 'BoxOffice (Crores)', 'Rating', 'Duration (minutes)', 'LeadActor', 'LeadActress', 'Language', 'ProductionCompany']\n"
     ]
    }
   ],
   "source": [
    "# Assuming df is your DataFrame\n",
    "print(df.columns.tolist())\n"
   ]
  },
  {
   "cell_type": "code",
   "execution_count": 103,
   "id": "e79852f7-2376-404b-8700-f953f7c22c15",
   "metadata": {},
   "outputs": [
    {
     "name": "stdout",
     "output_type": "stream",
     "text": [
      "\n",
      "Cleaned data saved to 'cleaned_indian_movies.csv'\n"
     ]
    }
   ],
   "source": [
    "df.to_csv(\"cleaned_indian_movies.csv\", index=False)\n",
    "print(\"\\nCleaned data saved to 'cleaned_indian_movies.csv'\")"
   ]
  },
  {
   "cell_type": "markdown",
   "id": "0ecdc854-8b68-4d27-b9d0-05ba41417878",
   "metadata": {},
   "source": [
    "# Cleaning tollywood_movies.csv"
   ]
  },
  {
   "cell_type": "code",
   "execution_count": 44,
   "id": "7c108b98-ede0-4fc2-b305-567ef18854c8",
   "metadata": {},
   "outputs": [],
   "source": [
    "import pandas as pd"
   ]
  },
  {
   "cell_type": "code",
   "execution_count": 45,
   "id": "9c220772-2312-42a5-8aff-17dcb1cdc188",
   "metadata": {},
   "outputs": [],
   "source": [
    "df = pd.read_csv(\"Downloads/Cleaned_movies_data/cleaned_tollywood_movies.csv\")"
   ]
  },
  {
   "cell_type": "code",
   "execution_count": 46,
   "id": "a33e62cf-a313-4513-94dc-e2c0bf17fc5b",
   "metadata": {},
   "outputs": [
    {
     "name": "stdout",
     "output_type": "stream",
     "text": [
      "                         title  releaseyear\n",
      "0  Baahubali 2: The Conclusion       2017.0\n",
      "1      Bahubali: The Beginning       2015.0\n",
      "2      Sye Raa Narasimha Reddy       2019.0\n",
      "3                       Jersey       2019.0\n",
      "4              Geetha Govindam       2018.0\n",
      "5                 Dear Comrade       2019.0\n",
      "6          Sarileru Neekevvaru       2018.0\n",
      "7                     Bheeshma       2020.0\n"
     ]
    }
   ],
   "source": [
    "df.loc[df['title'] == 'Baahubali 2: The Conclusion', 'releaseyear'] = 2017\n",
    "df.loc[df['title'] == 'Sarileru Neekevvaru', 'releaseyear'] = 2018\n",
    "print(df[['title', 'releaseyear']])\n"
   ]
  },
  {
   "cell_type": "code",
   "execution_count": 47,
   "id": "21486787-3255-49ac-8b9c-b506115652f8",
   "metadata": {},
   "outputs": [
    {
     "name": "stdout",
     "output_type": "stream",
     "text": [
      "\n",
      "Cleaned data saved to 'cleaned_tollywood_movies.csv'\n"
     ]
    }
   ],
   "source": [
    "df.to_csv(\"cleaned_tollywood_movies.csv\", index=False)\n",
    "print(\"\\nCleaned data saved to 'cleaned_tollywood_movies.csv'\")"
   ]
  },
  {
   "cell_type": "code",
   "execution_count": 48,
   "id": "c0c79890-b077-4810-a85c-9c535cb96161",
   "metadata": {},
   "outputs": [
    {
     "data": {
      "text/plain": [
       "movieid               object\n",
       "title                 object\n",
       "director              object\n",
       "genre                 object\n",
       "releaseyear            int64\n",
       "budget_crores          int64\n",
       "boxoffice_crores       int64\n",
       "rating               float64\n",
       "duration_minutes       int64\n",
       "leadactor             object\n",
       "leadactress           object\n",
       "language              object\n",
       "productioncompany     object\n",
       "dtype: object"
      ]
     },
     "execution_count": 48,
     "metadata": {},
     "output_type": "execute_result"
    }
   ],
   "source": [
    "cols_to_convert = ['releaseyear', 'budget_crores', 'boxoffice_crores', 'duration_minutes']\n",
    "\n",
    "for col in cols_to_convert:\n",
    "    df[col] = df[col].astype(int)\n",
    "\n",
    "df.dtypes\n"
   ]
  },
  {
   "cell_type": "code",
   "execution_count": 49,
   "id": "e4e1f152-050d-4aa4-947d-8a217bc5b1dc",
   "metadata": {},
   "outputs": [
    {
     "name": "stdout",
     "output_type": "stream",
     "text": [
      "\n",
      "Cleaned data saved to 'cleaned_tollywood_movies.csv'\n"
     ]
    }
   ],
   "source": [
    "df.to_csv(\"cleaned_tollywood_movies.csv\", index=False)\n",
    "print(\"\\nCleaned data saved to 'cleaned_tollywood_movies.csv'\")"
   ]
  },
  {
   "cell_type": "code",
   "execution_count": null,
   "id": "b4e8528a-ac25-4c10-88d5-64cf954fd99d",
   "metadata": {},
   "outputs": [],
   "source": []
  }
 ],
 "metadata": {
  "kernelspec": {
   "display_name": "Python 3 (ipykernel)",
   "language": "python",
   "name": "python3"
  },
  "language_info": {
   "codemirror_mode": {
    "name": "ipython",
    "version": 3
   },
   "file_extension": ".py",
   "mimetype": "text/x-python",
   "name": "python",
   "nbconvert_exporter": "python",
   "pygments_lexer": "ipython3",
   "version": "3.10.12"
  }
 },
 "nbformat": 4,
 "nbformat_minor": 5
}
