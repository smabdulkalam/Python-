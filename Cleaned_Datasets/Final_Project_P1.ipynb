{
 "cells": [
  {
   "cell_type": "code",
   "execution_count": 1,
   "id": "dd5ef098-ec5c-421e-aaac-d6faedf6710f",
   "metadata": {},
   "outputs": [
    {
     "ename": "ModuleNotFoundError",
     "evalue": "No module named 'matplotlib'",
     "output_type": "error",
     "traceback": [
      "\u001b[0;31m---------------------------------------------------------------------------\u001b[0m",
      "\u001b[0;31mModuleNotFoundError\u001b[0m                       Traceback (most recent call last)",
      "Cell \u001b[0;32mIn[1], line 2\u001b[0m\n\u001b[1;32m      1\u001b[0m \u001b[38;5;28;01mimport\u001b[39;00m\u001b[38;5;250m \u001b[39m\u001b[38;5;21;01mpandas\u001b[39;00m\u001b[38;5;250m \u001b[39m\u001b[38;5;28;01mas\u001b[39;00m\u001b[38;5;250m \u001b[39m\u001b[38;5;21;01mpd\u001b[39;00m\n\u001b[0;32m----> 2\u001b[0m \u001b[38;5;28;01mimport\u001b[39;00m\u001b[38;5;250m \u001b[39m\u001b[38;5;21;01mmatplotlib\u001b[39;00m\u001b[38;5;21;01m.\u001b[39;00m\u001b[38;5;21;01mpyplot\u001b[39;00m\u001b[38;5;250m \u001b[39m\u001b[38;5;28;01mas\u001b[39;00m\u001b[38;5;250m \u001b[39m\u001b[38;5;21;01mplt\u001b[39;00m\n",
      "\u001b[0;31mModuleNotFoundError\u001b[0m: No module named 'matplotlib'"
     ]
    }
   ],
   "source": [
    "import pandas as pd\n",
    "import matplotlib.pyplot as plt\n"
   ]
  },
  {
   "cell_type": "code",
   "execution_count": 2,
   "id": "438f26cc-31b2-4488-aa56-65c63135f353",
   "metadata": {},
   "outputs": [
    {
     "name": "stdout",
     "output_type": "stream",
     "text": [
      "Defaulting to user installation because normal site-packages is not writeable\n",
      "Collecting matplotlib\n",
      "  Downloading matplotlib-3.10.1-cp310-cp310-manylinux_2_17_x86_64.manylinux2014_x86_64.whl (8.6 MB)\n",
      "\u001b[2K     \u001b[38;2;114;156;31m━━━━━━━━━━━━━━━━━━━━━━━━━━━━━━━━━━━━━━━━\u001b[0m \u001b[32m8.6/8.6 MB\u001b[0m \u001b[31m2.9 MB/s\u001b[0m eta \u001b[36m0:00:00\u001b[0mm eta \u001b[36m0:00:01\u001b[0m[36m0:00:01\u001b[0m0m\n",
      "\u001b[?25hCollecting cycler>=0.10\n",
      "  Downloading cycler-0.12.1-py3-none-any.whl (8.3 kB)\n",
      "Collecting fonttools>=4.22.0\n",
      "  Downloading fonttools-4.57.0-cp310-cp310-manylinux_2_17_x86_64.manylinux2014_x86_64.whl (4.6 MB)\n",
      "\u001b[2K     \u001b[38;2;114;156;31m━━━━━━━━━━━━━━━━━━━━━━━━━━━━━━━━━━━━━━━━\u001b[0m \u001b[32m4.6/4.6 MB\u001b[0m \u001b[31m4.3 MB/s\u001b[0m eta \u001b[36m0:00:00\u001b[0mm eta \u001b[36m0:00:01\u001b[0m0:01\u001b[0m:01\u001b[0m\n",
      "\u001b[?25hRequirement already satisfied: pyparsing>=2.3.1 in /usr/lib/python3/dist-packages (from matplotlib) (2.4.7)\n",
      "Requirement already satisfied: pillow>=8 in /usr/lib/python3/dist-packages (from matplotlib) (9.0.1)\n",
      "Requirement already satisfied: packaging>=20.0 in ./.local/lib/python3.10/site-packages (from matplotlib) (25.0)\n",
      "Collecting contourpy>=1.0.1\n",
      "  Downloading contourpy-1.3.2-cp310-cp310-manylinux_2_17_x86_64.manylinux2014_x86_64.whl (325 kB)\n",
      "\u001b[2K     \u001b[38;2;114;156;31m━━━━━━━━━━━━━━━━━━━━━━━━━━━━━━━━━━━━━━━\u001b[0m \u001b[32m325.0/325.0 KB\u001b[0m \u001b[31m3.9 MB/s\u001b[0m eta \u001b[36m0:00:00\u001b[0m[36m0:00:01\u001b[0mm eta \u001b[36m0:00:01\u001b[0m\n",
      "\u001b[?25hRequirement already satisfied: python-dateutil>=2.7 in ./.local/lib/python3.10/site-packages (from matplotlib) (2.9.0.post0)\n",
      "Requirement already satisfied: numpy>=1.23 in ./.local/lib/python3.10/site-packages (from matplotlib) (2.2.5)\n",
      "Collecting kiwisolver>=1.3.1\n",
      "  Downloading kiwisolver-1.4.8-cp310-cp310-manylinux_2_12_x86_64.manylinux2010_x86_64.whl (1.6 MB)\n",
      "\u001b[2K     \u001b[38;2;114;156;31m━━━━━━━━━━━━━━━━━━━━━━━━━━━━━━━━━━━━━━━━\u001b[0m \u001b[32m1.6/1.6 MB\u001b[0m \u001b[31m3.8 MB/s\u001b[0m eta \u001b[36m0:00:00\u001b[0mm eta \u001b[36m0:00:01\u001b[0m0:01\u001b[0m:01\u001b[0m\n",
      "\u001b[?25hRequirement already satisfied: six>=1.5 in /usr/lib/python3/dist-packages (from python-dateutil>=2.7->matplotlib) (1.16.0)\n",
      "Installing collected packages: kiwisolver, fonttools, cycler, contourpy, matplotlib\n",
      "Successfully installed contourpy-1.3.2 cycler-0.12.1 fonttools-4.57.0 kiwisolver-1.4.8 matplotlib-3.10.1\n",
      "Note: you may need to restart the kernel to use updated packages.\n"
     ]
    }
   ],
   "source": [
    "pip install matplotlib"
   ]
  },
  {
   "cell_type": "code",
   "execution_count": 9,
   "id": "b60e24f6-b265-4f7a-b695-98b425bcf0c9",
   "metadata": {},
   "outputs": [],
   "source": [
    "# Reading the files \n",
    "df_hindi = pd.read_csv('Cleaned_Movie_Data/cleaned_bollywood_movies.csv')\n",
    "df_telugu = pd.read_csv('Cleaned_Movie_Data/cleaned_tollywood_movies.csv')\n",
    "df_indian = pd.read_csv('Cleaned_Movie_Data/cleaned_indian_movies.csv')"
   ]
  },
  {
   "cell_type": "code",
   "execution_count": 10,
   "id": "5f27fbf6-7ba2-417b-b41b-b0b186f3c51d",
   "metadata": {},
   "outputs": [],
   "source": [
    "# A new column called ROI where profit = boxoffice - budget , and it is divided by budget \n",
    "df_hindi['ROI'] = (df_hindi['BoxOffice (Crores)'] - df_hindi['Budget (Crores)']) / df_hindi['Budget (Crores)']\n",
    "df_telugu['ROI'] = (df_telugu['BoxOffice (Crores)'] - df_telugu['Budget (Crores)']) / df_telugu['Budget (Crores)']\n",
    "df_indian['ROI'] = (df_indian['BoxOffice (Crores)'] - df_indian['Budget (Crores)']) / df_indian['Budget (Crores)']\n"
   ]
  },
  {
   "cell_type": "code",
   "execution_count": 11,
   "id": "d7937747-dd86-400c-b80f-bf50cb85451e",
   "metadata": {},
   "outputs": [],
   "source": [
    "# Rounding off the values\n",
    "df_hindi['ROI'] = round(df_hindi['ROI'],2)\n",
    "df_telugu['ROI'] = round(df_telugu['ROI'],2)\n",
    "df_indian['ROI'] = round(df_indian['ROI'],2)"
   ]
  },
  {
   "cell_type": "code",
   "execution_count": 13,
   "id": "3a8b469c-fdf5-4d9e-b4c4-9619e5e14212",
   "metadata": {},
   "outputs": [
    {
     "data": {
      "text/html": [
       "<div>\n",
       "<style scoped>\n",
       "    .dataframe tbody tr th:only-of-type {\n",
       "        vertical-align: middle;\n",
       "    }\n",
       "\n",
       "    .dataframe tbody tr th {\n",
       "        vertical-align: top;\n",
       "    }\n",
       "\n",
       "    .dataframe thead th {\n",
       "        text-align: right;\n",
       "    }\n",
       "</style>\n",
       "<table border=\"1\" class=\"dataframe\">\n",
       "  <thead>\n",
       "    <tr style=\"text-align: right;\">\n",
       "      <th></th>\n",
       "      <th>index</th>\n",
       "      <th>MovieID</th>\n",
       "      <th>Title</th>\n",
       "      <th>Director</th>\n",
       "      <th>Genre</th>\n",
       "      <th>ReleaseYear</th>\n",
       "      <th>Budget (Crores)</th>\n",
       "      <th>BoxOffice (Crores)</th>\n",
       "      <th>Rating</th>\n",
       "      <th>Duration (minutes)</th>\n",
       "      <th>LeadActor</th>\n",
       "      <th>LeadActress</th>\n",
       "      <th>Language</th>\n",
       "      <th>ProductionCompany</th>\n",
       "      <th>ROI</th>\n",
       "    </tr>\n",
       "  </thead>\n",
       "  <tbody>\n",
       "    <tr>\n",
       "      <th>5</th>\n",
       "      <td>6</td>\n",
       "      <td>MOV007</td>\n",
       "      <td>Dangal</td>\n",
       "      <td>Nitesh Tiwari</td>\n",
       "      <td>Biographical Sports Drama</td>\n",
       "      <td>2016</td>\n",
       "      <td>70</td>\n",
       "      <td>2140</td>\n",
       "      <td>8.1</td>\n",
       "      <td>161</td>\n",
       "      <td>Aamir Khan</td>\n",
       "      <td>Fatima Sana Shaikh</td>\n",
       "      <td>hindi</td>\n",
       "      <td>Aamir Khan Productions</td>\n",
       "      <td>29.57</td>\n",
       "    </tr>\n",
       "    <tr>\n",
       "      <th>17</th>\n",
       "      <td>40</td>\n",
       "      <td>MOV041</td>\n",
       "      <td>Dilwale Dulhania Le Jayenge</td>\n",
       "      <td>Aditya Chopra</td>\n",
       "      <td>Romance</td>\n",
       "      <td>1995</td>\n",
       "      <td>4</td>\n",
       "      <td>61</td>\n",
       "      <td>7.7</td>\n",
       "      <td>189</td>\n",
       "      <td>Shah Rukh Khan</td>\n",
       "      <td>Kajol</td>\n",
       "      <td>hindi</td>\n",
       "      <td>Yash Raj Films</td>\n",
       "      <td>14.25</td>\n",
       "    </tr>\n",
       "    <tr>\n",
       "      <th>19</th>\n",
       "      <td>44</td>\n",
       "      <td>MOV045</td>\n",
       "      <td>3 Idiots</td>\n",
       "      <td>Rajkumar Hirani</td>\n",
       "      <td>Comedy Drama</td>\n",
       "      <td>2009</td>\n",
       "      <td>35</td>\n",
       "      <td>460</td>\n",
       "      <td>8.4</td>\n",
       "      <td>171</td>\n",
       "      <td>Aamir Khan</td>\n",
       "      <td>Kareena Kapoor</td>\n",
       "      <td>hindi</td>\n",
       "      <td>Vidhu Vinod Chopra Productions</td>\n",
       "      <td>12.14</td>\n",
       "    </tr>\n",
       "  </tbody>\n",
       "</table>\n",
       "</div>"
      ],
      "text/plain": [
       "    index MovieID                        Title         Director  \\\n",
       "5       6  MOV007                       Dangal    Nitesh Tiwari   \n",
       "17     40  MOV041  Dilwale Dulhania Le Jayenge    Aditya Chopra   \n",
       "19     44  MOV045                     3 Idiots  Rajkumar Hirani   \n",
       "\n",
       "                        Genre  ReleaseYear  Budget (Crores)  \\\n",
       "5   Biographical Sports Drama         2016               70   \n",
       "17                    Romance         1995                4   \n",
       "19               Comedy Drama         2009               35   \n",
       "\n",
       "    BoxOffice (Crores)  Rating  Duration (minutes)       LeadActor  \\\n",
       "5                 2140     8.1                 161      Aamir Khan   \n",
       "17                  61     7.7                 189  Shah Rukh Khan   \n",
       "19                 460     8.4                 171      Aamir Khan   \n",
       "\n",
       "           LeadActress Language               ProductionCompany    ROI  \n",
       "5   Fatima Sana Shaikh    hindi          Aamir Khan Productions  29.57  \n",
       "17               Kajol    hindi                  Yash Raj Films  14.25  \n",
       "19      Kareena Kapoor    hindi  Vidhu Vinod Chopra Productions  12.14  "
      ]
     },
     "execution_count": 13,
     "metadata": {},
     "output_type": "execute_result"
    }
   ],
   "source": [
    "# Finding top 3 Hindi films(ROI wise) uisng filters of only choosing where language is hindi and then sorting and finally choosing top_3\n",
    "top_3_hindi = df_hindi[df_hindi['Language'] == 'hindi'].sort_values('ROI', ascending=False).head(3)\n",
    "top_3_hindi\n"
   ]
  },
  {
   "cell_type": "code",
   "execution_count": 14,
   "id": "84e7309b-1944-41bf-b4e3-265b988451d7",
   "metadata": {},
   "outputs": [
    {
     "data": {
      "text/html": [
       "<div>\n",
       "<style scoped>\n",
       "    .dataframe tbody tr th:only-of-type {\n",
       "        vertical-align: middle;\n",
       "    }\n",
       "\n",
       "    .dataframe tbody tr th {\n",
       "        vertical-align: top;\n",
       "    }\n",
       "\n",
       "    .dataframe thead th {\n",
       "        text-align: right;\n",
       "    }\n",
       "</style>\n",
       "<table border=\"1\" class=\"dataframe\">\n",
       "  <thead>\n",
       "    <tr style=\"text-align: right;\">\n",
       "      <th></th>\n",
       "      <th>index</th>\n",
       "      <th>MovieID</th>\n",
       "      <th>Title</th>\n",
       "      <th>Director</th>\n",
       "      <th>Genre</th>\n",
       "      <th>ReleaseYear</th>\n",
       "      <th>Budget (Crores)</th>\n",
       "      <th>BoxOffice (Crores)</th>\n",
       "      <th>Rating</th>\n",
       "      <th>Duration (minutes)</th>\n",
       "      <th>LeadActor</th>\n",
       "      <th>LeadActress</th>\n",
       "      <th>Language</th>\n",
       "      <th>ProductionCompany</th>\n",
       "      <th>ROI</th>\n",
       "    </tr>\n",
       "  </thead>\n",
       "  <tbody>\n",
       "    <tr>\n",
       "      <th>4</th>\n",
       "      <td>4</td>\n",
       "      <td>TOLLY005</td>\n",
       "      <td>NaN</td>\n",
       "      <td>NaN</td>\n",
       "      <td>Romantic Comedy</td>\n",
       "      <td>2018</td>\n",
       "      <td>10</td>\n",
       "      <td>130</td>\n",
       "      <td>7.8</td>\n",
       "      <td>148</td>\n",
       "      <td>Vijay Deverakonda</td>\n",
       "      <td>Rashmika Mandanna</td>\n",
       "      <td>Telugu</td>\n",
       "      <td>GA2 Pictures</td>\n",
       "      <td>12.00</td>\n",
       "    </tr>\n",
       "    <tr>\n",
       "      <th>0</th>\n",
       "      <td>0</td>\n",
       "      <td>TOLLY001</td>\n",
       "      <td>NaN</td>\n",
       "      <td>NaN</td>\n",
       "      <td>Epic Fantasy Action</td>\n",
       "      <td>2017</td>\n",
       "      <td>250</td>\n",
       "      <td>1810</td>\n",
       "      <td>8.2</td>\n",
       "      <td>171</td>\n",
       "      <td>Prabhas</td>\n",
       "      <td>Anushka Shetty</td>\n",
       "      <td>Telugu</td>\n",
       "      <td>Arka Media Works</td>\n",
       "      <td>6.24</td>\n",
       "    </tr>\n",
       "    <tr>\n",
       "      <th>1</th>\n",
       "      <td>1</td>\n",
       "      <td>TOLLY002</td>\n",
       "      <td>NaN</td>\n",
       "      <td>NaN</td>\n",
       "      <td>Epic Fantasy Action</td>\n",
       "      <td>2015</td>\n",
       "      <td>180</td>\n",
       "      <td>650</td>\n",
       "      <td>8.1</td>\n",
       "      <td>159</td>\n",
       "      <td>Prabhas</td>\n",
       "      <td>Tamannaah</td>\n",
       "      <td>Telugu</td>\n",
       "      <td>Arka Media Works</td>\n",
       "      <td>2.61</td>\n",
       "    </tr>\n",
       "  </tbody>\n",
       "</table>\n",
       "</div>"
      ],
      "text/plain": [
       "   index   MovieID  Title  Director                Genre  ReleaseYear  \\\n",
       "4      4  TOLLY005    NaN       NaN      Romantic Comedy         2018   \n",
       "0      0  TOLLY001    NaN       NaN  Epic Fantasy Action         2017   \n",
       "1      1  TOLLY002    NaN       NaN  Epic Fantasy Action         2015   \n",
       "\n",
       "   Budget (Crores)  BoxOffice (Crores)  Rating  Duration (minutes)  \\\n",
       "4               10                 130     7.8                 148   \n",
       "0              250                1810     8.2                 171   \n",
       "1              180                 650     8.1                 159   \n",
       "\n",
       "           LeadActor        LeadActress Language ProductionCompany    ROI  \n",
       "4  Vijay Deverakonda  Rashmika Mandanna   Telugu      GA2 Pictures  12.00  \n",
       "0            Prabhas     Anushka Shetty   Telugu  Arka Media Works   6.24  \n",
       "1            Prabhas          Tamannaah   Telugu  Arka Media Works   2.61  "
      ]
     },
     "execution_count": 14,
     "metadata": {},
     "output_type": "execute_result"
    }
   ],
   "source": [
    "# Finding top 3 Telugu films(ROI wise) by sorting and finally choosing top_3\n",
    "top_3_telugu = df_telugu.sort_values('ROI', ascending=False).head(3)\n",
    "top_3_telugu\n"
   ]
  },
  {
   "cell_type": "code",
   "execution_count": 15,
   "id": "fdf7f31b-f77a-4a94-b390-de5c630c6402",
   "metadata": {},
   "outputs": [],
   "source": [
    "# Used a dataframe to merge all 3 dfs to find top 3 across all languages\n",
    "df_all = pd.concat([df_hindi, df_telugu, df_indian], ignore_index = True)\n"
   ]
  },
  {
   "cell_type": "code",
   "execution_count": 16,
   "id": "56dedff7-04f9-43c7-9585-8106e3c13ac9",
   "metadata": {},
   "outputs": [
    {
     "data": {
      "text/html": [
       "<div>\n",
       "<style scoped>\n",
       "    .dataframe tbody tr th:only-of-type {\n",
       "        vertical-align: middle;\n",
       "    }\n",
       "\n",
       "    .dataframe tbody tr th {\n",
       "        vertical-align: top;\n",
       "    }\n",
       "\n",
       "    .dataframe thead th {\n",
       "        text-align: right;\n",
       "    }\n",
       "</style>\n",
       "<table border=\"1\" class=\"dataframe\">\n",
       "  <thead>\n",
       "    <tr style=\"text-align: right;\">\n",
       "      <th></th>\n",
       "      <th>index</th>\n",
       "      <th>MovieID</th>\n",
       "      <th>Title</th>\n",
       "      <th>Director</th>\n",
       "      <th>Genre</th>\n",
       "      <th>ReleaseYear</th>\n",
       "      <th>Budget (Crores)</th>\n",
       "      <th>BoxOffice (Crores)</th>\n",
       "      <th>Rating</th>\n",
       "      <th>Duration (minutes)</th>\n",
       "      <th>LeadActor</th>\n",
       "      <th>LeadActress</th>\n",
       "      <th>Language</th>\n",
       "      <th>ProductionCompany</th>\n",
       "      <th>ROI</th>\n",
       "    </tr>\n",
       "  </thead>\n",
       "  <tbody>\n",
       "    <tr>\n",
       "      <th>5</th>\n",
       "      <td>6</td>\n",
       "      <td>MOV007</td>\n",
       "      <td>Dangal</td>\n",
       "      <td>Nitesh Tiwari</td>\n",
       "      <td>Biographical Sports Drama</td>\n",
       "      <td>2016</td>\n",
       "      <td>70</td>\n",
       "      <td>2140</td>\n",
       "      <td>8.1</td>\n",
       "      <td>161</td>\n",
       "      <td>Aamir Khan</td>\n",
       "      <td>Fatima Sana Shaikh</td>\n",
       "      <td>hindi</td>\n",
       "      <td>Aamir Khan Productions</td>\n",
       "      <td>29.57</td>\n",
       "    </tr>\n",
       "    <tr>\n",
       "      <th>17</th>\n",
       "      <td>40</td>\n",
       "      <td>MOV041</td>\n",
       "      <td>Dilwale Dulhania Le Jayenge</td>\n",
       "      <td>Aditya Chopra</td>\n",
       "      <td>Romance</td>\n",
       "      <td>1995</td>\n",
       "      <td>4</td>\n",
       "      <td>61</td>\n",
       "      <td>7.7</td>\n",
       "      <td>189</td>\n",
       "      <td>Shah Rukh Khan</td>\n",
       "      <td>Kajol</td>\n",
       "      <td>hindi</td>\n",
       "      <td>Yash Raj Films</td>\n",
       "      <td>14.25</td>\n",
       "    </tr>\n",
       "    <tr>\n",
       "      <th>19</th>\n",
       "      <td>44</td>\n",
       "      <td>MOV045</td>\n",
       "      <td>3 Idiots</td>\n",
       "      <td>Rajkumar Hirani</td>\n",
       "      <td>Comedy Drama</td>\n",
       "      <td>2009</td>\n",
       "      <td>35</td>\n",
       "      <td>460</td>\n",
       "      <td>8.4</td>\n",
       "      <td>171</td>\n",
       "      <td>Aamir Khan</td>\n",
       "      <td>Kareena Kapoor</td>\n",
       "      <td>hindi</td>\n",
       "      <td>Vidhu Vinod Chopra Productions</td>\n",
       "      <td>12.14</td>\n",
       "    </tr>\n",
       "  </tbody>\n",
       "</table>\n",
       "</div>"
      ],
      "text/plain": [
       "    index MovieID                        Title         Director  \\\n",
       "5       6  MOV007                       Dangal    Nitesh Tiwari   \n",
       "17     40  MOV041  Dilwale Dulhania Le Jayenge    Aditya Chopra   \n",
       "19     44  MOV045                     3 Idiots  Rajkumar Hirani   \n",
       "\n",
       "                        Genre  ReleaseYear  Budget (Crores)  \\\n",
       "5   Biographical Sports Drama         2016               70   \n",
       "17                    Romance         1995                4   \n",
       "19               Comedy Drama         2009               35   \n",
       "\n",
       "    BoxOffice (Crores)  Rating  Duration (minutes)       LeadActor  \\\n",
       "5                 2140     8.1                 161      Aamir Khan   \n",
       "17                  61     7.7                 189  Shah Rukh Khan   \n",
       "19                 460     8.4                 171      Aamir Khan   \n",
       "\n",
       "           LeadActress Language               ProductionCompany    ROI  \n",
       "5   Fatima Sana Shaikh    hindi          Aamir Khan Productions  29.57  \n",
       "17               Kajol    hindi                  Yash Raj Films  14.25  \n",
       "19      Kareena Kapoor    hindi  Vidhu Vinod Chopra Productions  12.14  "
      ]
     },
     "execution_count": 16,
     "metadata": {},
     "output_type": "execute_result"
    }
   ],
   "source": [
    "# Sorting and selecting top 3 of all languages df\n",
    "top_3_all = df_all.sort_values('ROI', ascending=False).head(3)\n",
    "top_3_all\n"
   ]
  },
  {
   "cell_type": "code",
   "execution_count": 17,
   "id": "631d5ba9-8331-4878-9409-0b28e4b549a6",
   "metadata": {},
   "outputs": [
    {
     "data": {
      "text/plain": [
       "<Axes: title={'center': 'ROI for top 3 hindi films'}, xlabel='Title'>"
      ]
     },
     "execution_count": 17,
     "metadata": {},
     "output_type": "execute_result"
    },
    {
     "data": {
      "image/png": "[encoded data removed]",
      "text/plain": [
       "<Figure size 640x480 with 1 Axes>"
      ]
     },
     "metadata": {},
     "output_type": "display_data"
    }
   ],
   "source": [
    "# Plotting a line graph of ROI against respective movies\n",
    "top_3_hindi.plot(x='Title', y=['ROI'], kind='line', title = 'ROI for top 3 hindi films')"
   ]
  },
  {
   "cell_type": "code",
   "execution_count": 19,
   "id": "93cc6ba2-e02b-409d-ab5d-ff40114c2754",
   "metadata": {},
   "outputs": [
    {
     "data": {
      "text/plain": [
       "<Axes: title={'center': 'ROI for top 3 films'}, xlabel='Title'>"
      ]
     },
     "execution_count": 19,
     "metadata": {},
     "output_type": "execute_result"
    },
    {
     "data": {
      "image/png": "[encoded data removed]",
      "text/plain": [
       "<Figure size 640x480 with 1 Axes>"
      ]
     },
     "metadata": {},
     "output_type": "display_data"
    }
   ],
   "source": [
    "# Plotting a line graph of ROI against respective movies\n",
    "top_3_all.plot(x='Title', y=['ROI'], kind='line',  title = 'ROI for top 3 films')"
   ]
  },
  {
   "cell_type": "code",
   "execution_count": null,
   "id": "5fb26bdd-3da0-4bb9-9ed7-1bd4db06f491",
   "metadata": {},
   "outputs": [],
   "source": []
  }
 ],
 "metadata": {
  "kernelspec": {
   "display_name": "Python 3 (ipykernel)",
   "language": "python",
   "name": "python3"
  },
  "language_info": {
   "codemirror_mode": {
    "name": "ipython",
    "version": 3
   },
   "file_extension": ".py",
   "mimetype": "text/x-python",
   "name": "python",
   "nbconvert_exporter": "python",
   "pygments_lexer": "ipython3",
   "version": "3.10.12"
  }
 },
 "nbformat": 4,
 "nbformat_minor": 5
}
